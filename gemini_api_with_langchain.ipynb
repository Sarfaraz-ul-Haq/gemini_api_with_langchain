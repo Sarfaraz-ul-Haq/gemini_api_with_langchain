{
  "nbformat": 4,
  "nbformat_minor": 0,
  "metadata": {
    "colab": {
      "provenance": [],
      "toc_visible": true,
      "authorship_tag": "ABX9TyMOOhy3TdpkGRf2dZ67Z1aV",
      "include_colab_link": true
    },
    "kernelspec": {
      "name": "python3",
      "display_name": "Python 3"
    },
    "language_info": {
      "name": "python"
    }
  },
  "cells": [
    {
      "cell_type": "markdown",
      "metadata": {
        "id": "view-in-github",
        "colab_type": "text"
      },
      "source": [
        "<a href=\"https://colab.research.google.com/github/Sarfaraz-ul-Haq/gemini_api_with_langchain/blob/main/gemini_api_with_langchain.ipynb\" target=\"_parent\"><img src=\"https://colab.research.google.com/assets/colab-badge.svg\" alt=\"Open In Colab\"/></a>"
      ]
    },
    {
      "cell_type": "code",
      "execution_count": 2,
      "metadata": {
        "colab": {
          "base_uri": "https://localhost:8080/"
        },
        "id": "BzYLm2IfGVaD",
        "outputId": "2f8a8dba-e7b9-4246-a431-1b6ed05cb834"
      },
      "outputs": [
        {
          "output_type": "stream",
          "name": "stdout",
          "text": [
            "\u001b[?25l   \u001b[90m━━━━━━━━━━━━━━━━━━━━━━━━━━━━━━━━━━━━━━━━\u001b[0m \u001b[32m0.0/1.0 MB\u001b[0m \u001b[31m?\u001b[0m eta \u001b[36m-:--:--\u001b[0m\r\u001b[2K   \u001b[91m━━━━━━━━━━━━━━\u001b[0m\u001b[90m╺\u001b[0m\u001b[90m━━━━━━━━━━━━━━━━━━━━━━━━━\u001b[0m \u001b[32m0.4/1.0 MB\u001b[0m \u001b[31m10.7 MB/s\u001b[0m eta \u001b[36m0:00:01\u001b[0m\r\u001b[2K   \u001b[90m━━━━━━━━━━━━━━━━━━━━━━━━━━━━━━━━━━━━━━━━\u001b[0m \u001b[32m1.0/1.0 MB\u001b[0m \u001b[31m15.1 MB/s\u001b[0m eta \u001b[36m0:00:00\u001b[0m\n",
            "\u001b[?25h"
          ]
        }
      ],
      "source": [
        "!pip install -q -U langchain\n",
        "!pip install -q -U langchain-google-genai"
      ]
    },
    {
      "cell_type": "code",
      "source": [
        "import textwrap\n",
        "\n",
        "from IPython.display import display, Markdown\n",
        "\n",
        "from langchain_google_genai import ChatGoogleGenerativeAI\n",
        "from langchain_core.messages.ai import AIMessage\n",
        "\n",
        "def to_markdown(text) -> Markdown:\n",
        "    text: str = text.replace(\"•\", \"  *\")\n",
        "    return Markdown(textwrap.indent(text, \"> \", predicate=lambda _: True))"
      ],
      "metadata": {
        "id": "cepCx1EJLxUa"
      },
      "execution_count": 9,
      "outputs": []
    },
    {
      "cell_type": "code",
      "source": [
        "from google.colab import userdata\n",
        "GEMINI_API_KEY = userdata.get(\"GEMINI_API_KEY\")"
      ],
      "metadata": {
        "id": "wvAv3jhFpmBy"
      },
      "execution_count": 4,
      "outputs": []
    },
    {
      "cell_type": "code",
      "source": [
        "llm: ChatGoogleGenerativeAI = ChatGoogleGenerativeAI(\n",
        "    model = \"gemini-1.5-flash\" ,\n",
        "    api_key = GEMINI_API_KEY,\n",
        "    temperature = 0.2,\n",
        ")"
      ],
      "metadata": {
        "id": "cCIJ0wOouihC"
      },
      "execution_count": 5,
      "outputs": []
    },
    {
      "cell_type": "code",
      "source": [
        "response: AIMessage = llm.invoke(\"How many starship engines are required to lift Burj Khalifa?\")\n",
        "to_markdown(response.content)"
      ],
      "metadata": {
        "colab": {
          "base_uri": "https://localhost:8080/",
          "height": 714
        },
        "id": "SwLftovxwLtk",
        "outputId": "88e18376-15e7-42cc-b0c2-c9c0a31faf21"
      },
      "execution_count": 10,
      "outputs": [
        {
          "output_type": "execute_result",
          "data": {
            "text/plain": [
              "<IPython.core.display.Markdown object>"
            ],
            "text/markdown": "> This is a fun thought experiment, but it's impossible to give a precise answer without some major assumptions and simplifications. Here's why:\n> \n> **1. Starship Engine Power:**\n> \n> * **Variable Thrust:** Starship engines are designed for space travel, not lifting heavy objects on Earth. Their thrust can be adjusted, but we don't know the maximum thrust they could produce in a scenario like this.\n> * **Fuel Consumption:**  The amount of fuel needed to lift the Burj Khalifa would be enormous, and we don't know how long the engines could sustain that level of thrust.\n> \n> **2. Burj Khalifa Mass:**\n> \n> * **Dynamic Mass:** The Burj Khalifa's mass isn't constant. It's affected by wind, temperature, and the weight of people and objects inside.\n> \n> **3. Atmospheric Drag:**\n> \n> * **Significant Resistance:**  Earth's atmosphere would create immense drag on the Burj Khalifa, requiring even more thrust to overcome.\n> \n> **4. Structural Integrity:**\n> \n> * **Unlikely to Survive:** The Burj Khalifa is designed for gravity, not the immense forces of a rocket launch. It would likely collapse under the stress.\n> \n> **Simplified Calculation (with HUGE assumptions):**\n> \n> Let's assume:\n> \n> * **Starship Engine Thrust:** 1,000,000 Newtons (a rough estimate)\n> * **Burj Khalifa Mass:** 500,000,000 kg (a simplified estimate)\n> * **Neglecting Atmospheric Drag:** This is a massive simplification.\n> \n> **Calculation:**\n> \n> * **Force needed to lift the Burj Khalifa:** Mass x Gravity = 500,000,000 kg x 9.8 m/s² = 4,900,000,000 Newtons\n> * **Number of engines needed:** Force needed / Engine thrust = 4,900,000,000 N / 1,000,000 N/engine = 4,900 engines\n> \n> **Conclusion:**\n> \n> This calculation is highly unrealistic. In reality, it would take many more engines than this, and the Burj Khalifa would likely be destroyed in the process. \n> \n> **It's important to remember that this is a purely hypothetical scenario. It's not feasible to lift the Burj Khalifa with Starship engines.** \n"
          },
          "metadata": {},
          "execution_count": 10
        }
      ]
    },
    {
      "cell_type": "code",
      "source": [
        "response"
      ],
      "metadata": {
        "colab": {
          "base_uri": "https://localhost:8080/"
        },
        "id": "a-LjA90JxenX",
        "outputId": "8f3d0368-5e46-4dda-9997-1609f19332cb"
      },
      "execution_count": 16,
      "outputs": [
        {
          "output_type": "execute_result",
          "data": {
            "text/plain": [
              "AIMessage(content=\"This is a fun thought experiment, but it's impossible to give a precise answer without some major assumptions and simplifications. Here's why:\\n\\n**1. Starship Engine Power:**\\n\\n* **Variable Thrust:** Starship engines are designed for space travel, not lifting heavy objects on Earth. Their thrust can be adjusted, but we don't know the maximum thrust they could produce in a scenario like this.\\n* **Fuel Consumption:**  The amount of fuel needed to lift the Burj Khalifa would be enormous, and we don't know how long the engines could sustain that level of thrust.\\n\\n**2. Burj Khalifa Mass:**\\n\\n* **Dynamic Mass:** The Burj Khalifa's mass isn't constant. It's affected by wind, temperature, and the weight of people and objects inside.\\n\\n**3. Atmospheric Drag:**\\n\\n* **Significant Resistance:**  Earth's atmosphere would create immense drag on the Burj Khalifa, requiring even more thrust to overcome.\\n\\n**4. Structural Integrity:**\\n\\n* **Unlikely to Survive:** The Burj Khalifa is designed for gravity, not the immense forces of a rocket launch. It would likely collapse under the stress.\\n\\n**Simplified Calculation (with HUGE assumptions):**\\n\\nLet's assume:\\n\\n* **Starship Engine Thrust:** 1,000,000 Newtons (a rough estimate)\\n* **Burj Khalifa Mass:** 500,000,000 kg (a simplified estimate)\\n* **Neglecting Atmospheric Drag:** This is a massive simplification.\\n\\n**Calculation:**\\n\\n* **Force needed to lift the Burj Khalifa:** Mass x Gravity = 500,000,000 kg x 9.8 m/s² = 4,900,000,000 Newtons\\n* **Number of engines needed:** Force needed / Engine thrust = 4,900,000,000 N / 1,000,000 N/engine = 4,900 engines\\n\\n**Conclusion:**\\n\\nThis calculation is highly unrealistic. In reality, it would take many more engines than this, and the Burj Khalifa would likely be destroyed in the process. \\n\\n**It's important to remember that this is a purely hypothetical scenario. It's not feasible to lift the Burj Khalifa with Starship engines.** \\n\", additional_kwargs={}, response_metadata={'prompt_feedback': {'block_reason': 0, 'safety_ratings': []}, 'finish_reason': 'STOP', 'safety_ratings': [{'category': 'HARM_CATEGORY_SEXUALLY_EXPLICIT', 'probability': 'NEGLIGIBLE', 'blocked': False}, {'category': 'HARM_CATEGORY_HATE_SPEECH', 'probability': 'NEGLIGIBLE', 'blocked': False}, {'category': 'HARM_CATEGORY_HARASSMENT', 'probability': 'NEGLIGIBLE', 'blocked': False}, {'category': 'HARM_CATEGORY_DANGEROUS_CONTENT', 'probability': 'NEGLIGIBLE', 'blocked': False}]}, id='run-4b488b38-3bd1-4291-be1f-72afe48ddeb7-0', usage_metadata={'input_tokens': 14, 'output_tokens': 503, 'total_tokens': 517})"
            ]
          },
          "metadata": {},
          "execution_count": 16
        }
      ]
    },
    {
      "cell_type": "code",
      "source": [],
      "metadata": {
        "id": "wDTlr8vEywL3"
      },
      "execution_count": null,
      "outputs": []
    }
  ]
}